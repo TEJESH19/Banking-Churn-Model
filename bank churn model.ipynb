{
 "cells": [
  {
   "cell_type": "code",
   "execution_count": 1,
   "metadata": {},
   "outputs": [],
   "source": [
    "import pandas as pd\n",
    "import numpy as np\n",
    "from sklearn.preprocessing import OrdinalEncoder\n",
    "from sklearn.ensemble import RandomForestClassifier\n",
    "from sklearn.metrics import recall_score\n",
    "from sklearn.metrics import classification_report\n",
    "from sklearn.model_selection import train_test_split\n",
    "import eli5\n",
    "from eli5.sklearn import PermutationImportance\n",
    "from sklearn.neural_network import MLPClassifier\n",
    "from sklearn.datasets import make_classification\n",
    "import tensorflow as tf\n",
    "from tensorflow import keras\n",
    "from sklearn.metrics import confusion_matrix , classification_report"
   ]
  },
  {
   "cell_type": "code",
   "execution_count": 2,
   "metadata": {},
   "outputs": [],
   "source": [
    "data = pd.read_csv('Churn_Modelling.csv')"
   ]
  },
  {
   "cell_type": "code",
   "execution_count": 4,
   "metadata": {},
   "outputs": [],
   "source": [
    "X = data.iloc[:,3:-1]"
   ]
  },
  {
   "cell_type": "code",
   "execution_count": 5,
   "metadata": {},
   "outputs": [],
   "source": [
    "encoder = OrdinalEncoder()\n",
    "value = encoder.fit_transform(X['Geography'].values.reshape(-1, 1))\n",
    "X['Geography'] = value\n",
    "encoder = OrdinalEncoder()\n",
    "value = encoder.fit_transform(X['Gender'].values.reshape(-1, 1))\n",
    "X['Gender'] = value"
   ]
  },
  {
   "cell_type": "code",
   "execution_count": 6,
   "metadata": {},
   "outputs": [],
   "source": [
    "y = data.iloc[:,len(data.columns)-1]\n"
   ]
  },
  {
   "cell_type": "code",
   "execution_count": 7,
   "metadata": {},
   "outputs": [],
   "source": [
    "X_train, X_test, y_train, y_test = train_test_split(X, y, test_size = 0.30, random_state = 42)"
   ]
  },
  {
   "cell_type": "code",
   "execution_count": 8,
   "metadata": {},
   "outputs": [
    {
     "data": {
      "text/html": [
       "<style>#sk-container-id-1 {color: black;background-color: white;}#sk-container-id-1 pre{padding: 0;}#sk-container-id-1 div.sk-toggleable {background-color: white;}#sk-container-id-1 label.sk-toggleable__label {cursor: pointer;display: block;width: 100%;margin-bottom: 0;padding: 0.3em;box-sizing: border-box;text-align: center;}#sk-container-id-1 label.sk-toggleable__label-arrow:before {content: \"▸\";float: left;margin-right: 0.25em;color: #696969;}#sk-container-id-1 label.sk-toggleable__label-arrow:hover:before {color: black;}#sk-container-id-1 div.sk-estimator:hover label.sk-toggleable__label-arrow:before {color: black;}#sk-container-id-1 div.sk-toggleable__content {max-height: 0;max-width: 0;overflow: hidden;text-align: left;background-color: #f0f8ff;}#sk-container-id-1 div.sk-toggleable__content pre {margin: 0.2em;color: black;border-radius: 0.25em;background-color: #f0f8ff;}#sk-container-id-1 input.sk-toggleable__control:checked~div.sk-toggleable__content {max-height: 200px;max-width: 100%;overflow: auto;}#sk-container-id-1 input.sk-toggleable__control:checked~label.sk-toggleable__label-arrow:before {content: \"▾\";}#sk-container-id-1 div.sk-estimator input.sk-toggleable__control:checked~label.sk-toggleable__label {background-color: #d4ebff;}#sk-container-id-1 div.sk-label input.sk-toggleable__control:checked~label.sk-toggleable__label {background-color: #d4ebff;}#sk-container-id-1 input.sk-hidden--visually {border: 0;clip: rect(1px 1px 1px 1px);clip: rect(1px, 1px, 1px, 1px);height: 1px;margin: -1px;overflow: hidden;padding: 0;position: absolute;width: 1px;}#sk-container-id-1 div.sk-estimator {font-family: monospace;background-color: #f0f8ff;border: 1px dotted black;border-radius: 0.25em;box-sizing: border-box;margin-bottom: 0.5em;}#sk-container-id-1 div.sk-estimator:hover {background-color: #d4ebff;}#sk-container-id-1 div.sk-parallel-item::after {content: \"\";width: 100%;border-bottom: 1px solid gray;flex-grow: 1;}#sk-container-id-1 div.sk-label:hover label.sk-toggleable__label {background-color: #d4ebff;}#sk-container-id-1 div.sk-serial::before {content: \"\";position: absolute;border-left: 1px solid gray;box-sizing: border-box;top: 0;bottom: 0;left: 50%;z-index: 0;}#sk-container-id-1 div.sk-serial {display: flex;flex-direction: column;align-items: center;background-color: white;padding-right: 0.2em;padding-left: 0.2em;position: relative;}#sk-container-id-1 div.sk-item {position: relative;z-index: 1;}#sk-container-id-1 div.sk-parallel {display: flex;align-items: stretch;justify-content: center;background-color: white;position: relative;}#sk-container-id-1 div.sk-item::before, #sk-container-id-1 div.sk-parallel-item::before {content: \"\";position: absolute;border-left: 1px solid gray;box-sizing: border-box;top: 0;bottom: 0;left: 50%;z-index: -1;}#sk-container-id-1 div.sk-parallel-item {display: flex;flex-direction: column;z-index: 1;position: relative;background-color: white;}#sk-container-id-1 div.sk-parallel-item:first-child::after {align-self: flex-end;width: 50%;}#sk-container-id-1 div.sk-parallel-item:last-child::after {align-self: flex-start;width: 50%;}#sk-container-id-1 div.sk-parallel-item:only-child::after {width: 0;}#sk-container-id-1 div.sk-dashed-wrapped {border: 1px dashed gray;margin: 0 0.4em 0.5em 0.4em;box-sizing: border-box;padding-bottom: 0.4em;background-color: white;}#sk-container-id-1 div.sk-label label {font-family: monospace;font-weight: bold;display: inline-block;line-height: 1.2em;}#sk-container-id-1 div.sk-label-container {text-align: center;}#sk-container-id-1 div.sk-container {/* jupyter's `normalize.less` sets `[hidden] { display: none; }` but bootstrap.min.css set `[hidden] { display: none !important; }` so we also need the `!important` here to be able to override the default hidden behavior on the sphinx rendered scikit-learn.org. See: https://github.com/scikit-learn/scikit-learn/issues/21755 */display: inline-block !important;position: relative;}#sk-container-id-1 div.sk-text-repr-fallback {display: none;}</style><div id=\"sk-container-id-1\" class=\"sk-top-container\"><div class=\"sk-text-repr-fallback\"><pre>RandomForestClassifier(max_depth=2, random_state=0)</pre><b>In a Jupyter environment, please rerun this cell to show the HTML representation or trust the notebook. <br />On GitHub, the HTML representation is unable to render, please try loading this page with nbviewer.org.</b></div><div class=\"sk-container\" hidden><div class=\"sk-item\"><div class=\"sk-estimator sk-toggleable\"><input class=\"sk-toggleable__control sk-hidden--visually\" id=\"sk-estimator-id-1\" type=\"checkbox\" checked><label for=\"sk-estimator-id-1\" class=\"sk-toggleable__label sk-toggleable__label-arrow\">RandomForestClassifier</label><div class=\"sk-toggleable__content\"><pre>RandomForestClassifier(max_depth=2, random_state=0)</pre></div></div></div></div></div>"
      ],
      "text/plain": [
       "RandomForestClassifier(max_depth=2, random_state=0)"
      ]
     },
     "execution_count": 8,
     "metadata": {},
     "output_type": "execute_result"
    }
   ],
   "source": [
    "RF = RandomForestClassifier(n_estimators = 100, max_depth = 2, random_state = 0)\n",
    "RF.fit(X_train, y_train)"
   ]
  },
  {
   "cell_type": "code",
   "execution_count": 9,
   "metadata": {},
   "outputs": [
    {
     "data": {
      "text/plain": [
       "0.8093"
      ]
     },
     "execution_count": 9,
     "metadata": {},
     "output_type": "execute_result"
    }
   ],
   "source": [
    "round(RF.score(X_train, y_train), 4)\n"
   ]
  },
  {
   "cell_type": "code",
   "execution_count": 10,
   "metadata": {},
   "outputs": [],
   "source": [
    "model = keras.Sequential([\n",
    "keras.layers.Dense(10, input_shape = (10,), activation = 'relu'),\n",
    "keras.layers.Dense(25, activation = 'relu'),\n",
    "keras.layers.Dense(1, activation = 'sigmoid')\n",
    "])\n",
    "model.compile(optimizer = 'adam',\n",
    "loss = 'binary_crossentropy',\n",
    "metrics = ['accuracy'])"
   ]
  },
  {
   "cell_type": "code",
   "execution_count": 11,
   "metadata": {},
   "outputs": [
    {
     "name": "stdout",
     "output_type": "stream",
     "text": [
      "Epoch 1/50\n",
      "219/219 [==============================] - 1s 911us/step - loss: 83.0761 - accuracy: 0.6689\n",
      "Epoch 2/50\n",
      "219/219 [==============================] - 0s 860us/step - loss: 54.9379 - accuracy: 0.6710\n",
      "Epoch 3/50\n",
      "219/219 [==============================] - 0s 841us/step - loss: 52.0375 - accuracy: 0.6694\n",
      "Epoch 4/50\n",
      "219/219 [==============================] - 0s 832us/step - loss: 45.3338 - accuracy: 0.6714\n",
      "Epoch 5/50\n",
      "219/219 [==============================] - 0s 860us/step - loss: 45.5058 - accuracy: 0.6694 0s - loss: 59.3111 - accuracy: 0.6\n",
      "Epoch 6/50\n",
      "219/219 [==============================] - 0s 965us/step - loss: 40.3965 - accuracy: 0.6676\n",
      "Epoch 7/50\n",
      "219/219 [==============================] - ETA: 0s - loss: 38.3834 - accuracy: 0.672 - 0s 910us/step - loss: 42.0870 - accuracy: 0.6716\n",
      "Epoch 8/50\n",
      "219/219 [==============================] - 0s 795us/step - loss: 43.4437 - accuracy: 0.6709\n",
      "Epoch 9/50\n",
      "219/219 [==============================] - 0s 864us/step - loss: 39.5239 - accuracy: 0.6749\n",
      "Epoch 10/50\n",
      "219/219 [==============================] - 0s 892us/step - loss: 45.0178 - accuracy: 0.6721\n",
      "Epoch 11/50\n",
      "219/219 [==============================] - 0s 988us/step - loss: 43.0477 - accuracy: 0.6810\n",
      "Epoch 12/50\n",
      "219/219 [==============================] - 0s 965us/step - loss: 40.0317 - accuracy: 0.6686\n",
      "Epoch 13/50\n",
      "219/219 [==============================] - 0s 841us/step - loss: 30.4914 - accuracy: 0.6736\n",
      "Epoch 14/50\n",
      "219/219 [==============================] - 0s 837us/step - loss: 30.6562 - accuracy: 0.6747\n",
      "Epoch 15/50\n",
      "219/219 [==============================] - 0s 832us/step - loss: 49.8364 - accuracy: 0.6786\n",
      "Epoch 16/50\n",
      "219/219 [==============================] - 0s 832us/step - loss: 33.8281 - accuracy: 0.6787\n",
      "Epoch 17/50\n",
      "219/219 [==============================] - 0s 796us/step - loss: 35.8143 - accuracy: 0.6773\n",
      "Epoch 18/50\n",
      "219/219 [==============================] - 0s 786us/step - loss: 33.5705 - accuracy: 0.6770\n",
      "Epoch 19/50\n",
      "219/219 [==============================] - 0s 818us/step - loss: 36.2984 - accuracy: 0.6676\n",
      "Epoch 20/50\n",
      "219/219 [==============================] - 0s 892us/step - loss: 31.3016 - accuracy: 0.6784\n",
      "Epoch 21/50\n",
      "219/219 [==============================] - 0s 896us/step - loss: 37.2951 - accuracy: 0.6704\n",
      "Epoch 22/50\n",
      "219/219 [==============================] - 0s 1ms/step - loss: 33.7493 - accuracy: 0.6773\n",
      "Epoch 23/50\n",
      "219/219 [==============================] - 0s 873us/step - loss: 31.3537 - accuracy: 0.6780\n",
      "Epoch 24/50\n",
      "219/219 [==============================] - 0s 979us/step - loss: 33.8877 - accuracy: 0.6749\n",
      "Epoch 25/50\n",
      "219/219 [==============================] - 0s 828us/step - loss: 42.8777 - accuracy: 0.6703\n",
      "Epoch 26/50\n",
      "219/219 [==============================] - 0s 777us/step - loss: 34.9846 - accuracy: 0.6716\n",
      "Epoch 27/50\n",
      "219/219 [==============================] - 0s 828us/step - loss: 32.5289 - accuracy: 0.6803\n",
      "Epoch 28/50\n",
      "219/219 [==============================] - 0s 805us/step - loss: 38.3746 - accuracy: 0.6853\n",
      "Epoch 29/50\n",
      "219/219 [==============================] - 0s 754us/step - loss: 37.2757 - accuracy: 0.6744\n",
      "Epoch 30/50\n",
      "219/219 [==============================] - 0s 759us/step - loss: 30.0445 - accuracy: 0.6823\n",
      "Epoch 31/50\n",
      "219/219 [==============================] - ETA: 0s - loss: 31.5397 - accuracy: 0.672 - 0s 782us/step - loss: 31.2059 - accuracy: 0.6749\n",
      "Epoch 32/50\n",
      "219/219 [==============================] - 0s 800us/step - loss: 39.7411 - accuracy: 0.6793\n",
      "Epoch 33/50\n",
      "219/219 [==============================] - 0s 786us/step - loss: 30.2789 - accuracy: 0.6699\n",
      "Epoch 34/50\n",
      "219/219 [==============================] - 0s 791us/step - loss: 36.5270 - accuracy: 0.6756\n",
      "Epoch 35/50\n",
      "219/219 [==============================] - 0s 759us/step - loss: 30.0224 - accuracy: 0.6781\n",
      "Epoch 36/50\n",
      "219/219 [==============================] - 0s 947us/step - loss: 35.0667 - accuracy: 0.6730\n",
      "Epoch 37/50\n",
      "219/219 [==============================] - 0s 811us/step - loss: 27.7521 - accuracy: 0.6794\n",
      "Epoch 38/50\n",
      "219/219 [==============================] - 0s 899us/step - loss: 28.2690 - accuracy: 0.6751 0s - loss: 25.7994 - accuracy: 0.671\n",
      "Epoch 39/50\n",
      "219/219 [==============================] - 0s 791us/step - loss: 25.5453 - accuracy: 0.6749\n",
      "Epoch 40/50\n",
      "219/219 [==============================] - 0s 731us/step - loss: 27.5306 - accuracy: 0.6759\n",
      "Epoch 41/50\n",
      "219/219 [==============================] - 0s 754us/step - loss: 32.1190 - accuracy: 0.6790\n",
      "Epoch 42/50\n",
      "219/219 [==============================] - 0s 915us/step - loss: 29.5793 - accuracy: 0.6811\n",
      "Epoch 43/50\n",
      "219/219 [==============================] - 0s 800us/step - loss: 27.0445 - accuracy: 0.6754\n",
      "Epoch 44/50\n",
      "219/219 [==============================] - 0s 823us/step - loss: 23.2082 - accuracy: 0.6713\n",
      "Epoch 45/50\n",
      "219/219 [==============================] - 0s 818us/step - loss: 34.7150 - accuracy: 0.6740\n",
      "Epoch 46/50\n",
      "219/219 [==============================] - 0s 868us/step - loss: 38.7364 - accuracy: 0.6720\n",
      "Epoch 47/50\n",
      "219/219 [==============================] - 0s 848us/step - loss: 31.0240 - accuracy: 0.6691\n",
      "Epoch 48/50\n",
      "219/219 [==============================] - 0s 983us/step - loss: 24.4318 - accuracy: 0.6744\n",
      "Epoch 49/50\n",
      "219/219 [==============================] - 0s 777us/step - loss: 33.2358 - accuracy: 0.6783\n",
      "Epoch 50/50\n",
      "219/219 [==============================] - 0s 809us/step - loss: 24.6248 - accuracy: 0.6671\n"
     ]
    },
    {
     "data": {
      "text/plain": [
       "<tensorflow.python.keras.callbacks.History at 0x282e27540d0>"
      ]
     },
     "execution_count": 11,
     "metadata": {},
     "output_type": "execute_result"
    }
   ],
   "source": [
    "model.fit(X_train, y_train, epochs = 50)"
   ]
  },
  {
   "cell_type": "code",
   "execution_count": 13,
   "metadata": {},
   "outputs": [
    {
     "name": "stdout",
     "output_type": "stream",
     "text": [
      "              precision    recall  f1-score   support\n",
      "\n",
      "           0       0.81      1.00      0.89      2416\n",
      "           1       1.00      0.00      0.00       584\n",
      "\n",
      "    accuracy                           0.81      3000\n",
      "   macro avg       0.90      0.50      0.45      3000\n",
      "weighted avg       0.84      0.81      0.72      3000\n",
      "\n"
     ]
    }
   ],
   "source": [
    "yp = model.predict(X_test)\n",
    "y_pred = []\n",
    "for element in yp:\n",
    "    if element > 0.5:\n",
    "        y_pred.append(1)\n",
    "    else:\n",
    "        y_pred.append(0)\n",
    "print(classification_report(y_test, y_pred))"
   ]
  }
 ],
 "metadata": {
  "kernelspec": {
   "display_name": "Python 3",
   "language": "python",
   "name": "python3"
  },
  "language_info": {
   "codemirror_mode": {
    "name": "ipython",
    "version": 3
   },
   "file_extension": ".py",
   "mimetype": "text/x-python",
   "name": "python",
   "nbconvert_exporter": "python",
   "pygments_lexer": "ipython3",
   "version": "3.9.1"
  },
  "orig_nbformat": 4,
  "vscode": {
   "interpreter": {
    "hash": "8bd2466231e41ed14114f2b409d9719ddb015392667fe5003083bc13ae641016"
   }
  }
 },
 "nbformat": 4,
 "nbformat_minor": 2
}
